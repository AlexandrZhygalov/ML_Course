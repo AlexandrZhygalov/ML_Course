{
 "cells": [
  {
   "metadata": {},
   "cell_type": "markdown",
   "source": "PyTorch. Вступ",
   "id": "bd5f35581de1b968"
  },
  {
   "cell_type": "code",
   "id": "initial_id",
   "metadata": {
    "collapsed": true,
    "ExecuteTime": {
     "end_time": "2025-03-03T13:19:44.596118Z",
     "start_time": "2025-03-03T13:19:38.322222Z"
    }
   },
   "source": [
    "import torch\n",
    "import pandas as pd\n",
    "import numpy as np\n",
    "import matplotlib.pyplot as plt\n",
    "\n",
    "print(torch.__version__)"
   ],
   "outputs": [
    {
     "name": "stdout",
     "output_type": "stream",
     "text": [
      "2.6.0+cpu\n"
     ]
    }
   ],
   "execution_count": 2
  },
  {
   "metadata": {},
   "cell_type": "markdown",
   "source": "*Tensors*",
   "id": "1c8eb1a4716625a1"
  },
  {
   "metadata": {},
   "cell_type": "markdown",
   "source": "Число",
   "id": "bd66fafa1e945337"
  },
  {
   "metadata": {
    "ExecuteTime": {
     "end_time": "2025-03-03T13:19:44.625399Z",
     "start_time": "2025-03-03T13:19:44.601634Z"
    }
   },
   "cell_type": "code",
   "source": [
    "scalar = torch.tensor(7)\n",
    "scalar"
   ],
   "id": "e830ff17420a62a9",
   "outputs": [
    {
     "data": {
      "text/plain": [
       "tensor(7)"
      ]
     },
     "execution_count": 3,
     "metadata": {},
     "output_type": "execute_result"
    }
   ],
   "execution_count": 3
  },
  {
   "metadata": {
    "ExecuteTime": {
     "end_time": "2025-03-03T13:19:44.666728Z",
     "start_time": "2025-03-03T13:19:44.661609Z"
    }
   },
   "cell_type": "code",
   "source": "scalar.ndim",
   "id": "929e06a072a4e16a",
   "outputs": [
    {
     "data": {
      "text/plain": [
       "0"
      ]
     },
     "execution_count": 4,
     "metadata": {},
     "output_type": "execute_result"
    }
   ],
   "execution_count": 4
  },
  {
   "metadata": {
    "ExecuteTime": {
     "end_time": "2025-03-03T13:19:44.677459Z",
     "start_time": "2025-03-03T13:19:44.674228Z"
    }
   },
   "cell_type": "code",
   "source": "scalar.item()",
   "id": "875f22429284dcce",
   "outputs": [
    {
     "data": {
      "text/plain": [
       "7"
      ]
     },
     "execution_count": 5,
     "metadata": {},
     "output_type": "execute_result"
    }
   ],
   "execution_count": 5
  },
  {
   "metadata": {},
   "cell_type": "markdown",
   "source": "Вектор",
   "id": "6cbc5eec1fb2d874"
  },
  {
   "metadata": {
    "ExecuteTime": {
     "end_time": "2025-03-03T13:19:44.702960Z",
     "start_time": "2025-03-03T13:19:44.698327Z"
    }
   },
   "cell_type": "code",
   "source": [
    "vector = torch.tensor([1,2,3,4,5])\n",
    "vector.ndim"
   ],
   "id": "36887d76bbcb65f2",
   "outputs": [
    {
     "data": {
      "text/plain": [
       "1"
      ]
     },
     "execution_count": 6,
     "metadata": {},
     "output_type": "execute_result"
    }
   ],
   "execution_count": 6
  },
  {
   "metadata": {},
   "cell_type": "markdown",
   "source": "Матриця",
   "id": "69e0ab73a9a8b0a9"
  },
  {
   "metadata": {
    "ExecuteTime": {
     "end_time": "2025-03-03T13:19:44.731473Z",
     "start_time": "2025-03-03T13:19:44.726968Z"
    }
   },
   "cell_type": "code",
   "source": [
    "matrix = torch.tensor([[1,2,3],[4,5,6]])\n",
    "matrix.ndim"
   ],
   "id": "285d5997ef0d1ac2",
   "outputs": [
    {
     "data": {
      "text/plain": [
       "2"
      ]
     },
     "execution_count": 7,
     "metadata": {},
     "output_type": "execute_result"
    }
   ],
   "execution_count": 7
  },
  {
   "metadata": {
    "ExecuteTime": {
     "end_time": "2025-03-03T13:19:44.760042Z",
     "start_time": "2025-03-03T13:19:44.756330Z"
    }
   },
   "cell_type": "code",
   "source": "matrix.shape",
   "id": "7e7583c92e3202fe",
   "outputs": [
    {
     "data": {
      "text/plain": [
       "torch.Size([2, 3])"
      ]
     },
     "execution_count": 8,
     "metadata": {},
     "output_type": "execute_result"
    }
   ],
   "execution_count": 8
  },
  {
   "metadata": {},
   "cell_type": "markdown",
   "source": "Створення tensor",
   "id": "d6be7815d9c54a75"
  },
  {
   "metadata": {
    "ExecuteTime": {
     "end_time": "2025-03-03T13:19:44.790932Z",
     "start_time": "2025-03-03T13:19:44.786931Z"
    }
   },
   "cell_type": "code",
   "source": [
    "TENSOR = torch.tensor([[1,2,3],\n",
    "                       [4,5,6],\n",
    "                       [7,8,9]])\n",
    "TENSOR.shape"
   ],
   "id": "670c70cdc1cb1d27",
   "outputs": [
    {
     "data": {
      "text/plain": [
       "torch.Size([3, 3])"
      ]
     },
     "execution_count": 9,
     "metadata": {},
     "output_type": "execute_result"
    }
   ],
   "execution_count": 9
  },
  {
   "metadata": {
    "ExecuteTime": {
     "end_time": "2025-03-03T13:19:44.842141Z",
     "start_time": "2025-03-03T13:19:44.815983Z"
    }
   },
   "cell_type": "code",
   "source": [
    "random_tensor = torch.rand(2, 3, 4)\n",
    "random_tensor"
   ],
   "id": "8b4efd8e6f9d9631",
   "outputs": [
    {
     "data": {
      "text/plain": [
       "tensor([[[0.1022, 0.6518, 0.8767, 0.4948],\n",
       "         [0.7779, 0.8465, 0.4293, 0.3846],\n",
       "         [0.1732, 0.5184, 0.8191, 0.7051]],\n",
       "\n",
       "        [[0.2396, 0.4908, 0.5187, 0.1928],\n",
       "         [0.5853, 0.3623, 0.1929, 0.6867],\n",
       "         [0.4259, 0.3011, 0.8946, 0.6983]]])"
      ]
     },
     "execution_count": 10,
     "metadata": {},
     "output_type": "execute_result"
    }
   ],
   "execution_count": 10
  },
  {
   "metadata": {},
   "cell_type": "markdown",
   "source": "tensor, який є схожим до тезора картинки",
   "id": "e3b57c22f902d3bf"
  },
  {
   "metadata": {
    "ExecuteTime": {
     "end_time": "2025-03-03T13:19:44.858662Z",
     "start_time": "2025-03-03T13:19:44.853962Z"
    }
   },
   "cell_type": "code",
   "source": [
    "random_image_size_tensor = torch.rand(size=(3,224,224))\n",
    "random_image_size_tensor.shape, random_image_size_tensor.ndim"
   ],
   "id": "d2d1c731b9edcdcb",
   "outputs": [
    {
     "data": {
      "text/plain": [
       "(torch.Size([3, 224, 224]), 3)"
      ]
     },
     "execution_count": 11,
     "metadata": {},
     "output_type": "execute_result"
    }
   ],
   "execution_count": 11
  },
  {
   "metadata": {},
   "cell_type": "markdown",
   "source": "Бінарні тензори",
   "id": "74b6b98e55863515"
  },
  {
   "metadata": {
    "ExecuteTime": {
     "end_time": "2025-03-03T13:19:44.888467Z",
     "start_time": "2025-03-03T13:19:44.883449Z"
    }
   },
   "cell_type": "code",
   "source": [
    "zero = torch.zeros(3, 4)\n",
    "zero"
   ],
   "id": "62dab7bfe586f8b0",
   "outputs": [
    {
     "data": {
      "text/plain": [
       "tensor([[0., 0., 0., 0.],\n",
       "        [0., 0., 0., 0.],\n",
       "        [0., 0., 0., 0.]])"
      ]
     },
     "execution_count": 12,
     "metadata": {},
     "output_type": "execute_result"
    }
   ],
   "execution_count": 12
  },
  {
   "metadata": {
    "ExecuteTime": {
     "end_time": "2025-03-03T13:19:44.915390Z",
     "start_time": "2025-03-03T13:19:44.911030Z"
    }
   },
   "cell_type": "code",
   "source": [
    "ones = torch.ones(3, 4)\n",
    "ones, ones.dtype"
   ],
   "id": "7ad5330c72f52d0c",
   "outputs": [
    {
     "data": {
      "text/plain": [
       "(tensor([[1., 1., 1., 1.],\n",
       "         [1., 1., 1., 1.],\n",
       "         [1., 1., 1., 1.]]),\n",
       " torch.float32)"
      ]
     },
     "execution_count": 13,
     "metadata": {},
     "output_type": "execute_result"
    }
   ],
   "execution_count": 13
  },
  {
   "metadata": {},
   "cell_type": "markdown",
   "source": "Тензор множини",
   "id": "3e8d04ea835ca50c"
  },
  {
   "metadata": {
    "ExecuteTime": {
     "end_time": "2025-03-03T13:19:44.957871Z",
     "start_time": "2025-03-03T13:19:44.951277Z"
    }
   },
   "cell_type": "code",
   "source": [
    "range = torch.arange(start=0, end=1000, step=5)\n",
    "range"
   ],
   "id": "3d66bdb495256997",
   "outputs": [
    {
     "data": {
      "text/plain": [
       "tensor([  0,   5,  10,  15,  20,  25,  30,  35,  40,  45,  50,  55,  60,  65,\n",
       "         70,  75,  80,  85,  90,  95, 100, 105, 110, 115, 120, 125, 130, 135,\n",
       "        140, 145, 150, 155, 160, 165, 170, 175, 180, 185, 190, 195, 200, 205,\n",
       "        210, 215, 220, 225, 230, 235, 240, 245, 250, 255, 260, 265, 270, 275,\n",
       "        280, 285, 290, 295, 300, 305, 310, 315, 320, 325, 330, 335, 340, 345,\n",
       "        350, 355, 360, 365, 370, 375, 380, 385, 390, 395, 400, 405, 410, 415,\n",
       "        420, 425, 430, 435, 440, 445, 450, 455, 460, 465, 470, 475, 480, 485,\n",
       "        490, 495, 500, 505, 510, 515, 520, 525, 530, 535, 540, 545, 550, 555,\n",
       "        560, 565, 570, 575, 580, 585, 590, 595, 600, 605, 610, 615, 620, 625,\n",
       "        630, 635, 640, 645, 650, 655, 660, 665, 670, 675, 680, 685, 690, 695,\n",
       "        700, 705, 710, 715, 720, 725, 730, 735, 740, 745, 750, 755, 760, 765,\n",
       "        770, 775, 780, 785, 790, 795, 800, 805, 810, 815, 820, 825, 830, 835,\n",
       "        840, 845, 850, 855, 860, 865, 870, 875, 880, 885, 890, 895, 900, 905,\n",
       "        910, 915, 920, 925, 930, 935, 940, 945, 950, 955, 960, 965, 970, 975,\n",
       "        980, 985, 990, 995])"
      ]
     },
     "execution_count": 14,
     "metadata": {},
     "output_type": "execute_result"
    }
   ],
   "execution_count": 14
  },
  {
   "metadata": {},
   "cell_type": "markdown",
   "source": "Створення нульового тензора копіюванням розміру",
   "id": "d7ec72d6a46268a0"
  },
  {
   "metadata": {
    "ExecuteTime": {
     "end_time": "2025-03-03T13:19:44.999470Z",
     "start_time": "2025-03-03T13:19:44.994913Z"
    }
   },
   "cell_type": "code",
   "source": [
    "zero_range = torch.zeros_like(input=range)\n",
    "zero_range"
   ],
   "id": "28563c616ad15f4c",
   "outputs": [
    {
     "data": {
      "text/plain": [
       "tensor([0, 0, 0, 0, 0, 0, 0, 0, 0, 0, 0, 0, 0, 0, 0, 0, 0, 0, 0, 0, 0, 0, 0, 0,\n",
       "        0, 0, 0, 0, 0, 0, 0, 0, 0, 0, 0, 0, 0, 0, 0, 0, 0, 0, 0, 0, 0, 0, 0, 0,\n",
       "        0, 0, 0, 0, 0, 0, 0, 0, 0, 0, 0, 0, 0, 0, 0, 0, 0, 0, 0, 0, 0, 0, 0, 0,\n",
       "        0, 0, 0, 0, 0, 0, 0, 0, 0, 0, 0, 0, 0, 0, 0, 0, 0, 0, 0, 0, 0, 0, 0, 0,\n",
       "        0, 0, 0, 0, 0, 0, 0, 0, 0, 0, 0, 0, 0, 0, 0, 0, 0, 0, 0, 0, 0, 0, 0, 0,\n",
       "        0, 0, 0, 0, 0, 0, 0, 0, 0, 0, 0, 0, 0, 0, 0, 0, 0, 0, 0, 0, 0, 0, 0, 0,\n",
       "        0, 0, 0, 0, 0, 0, 0, 0, 0, 0, 0, 0, 0, 0, 0, 0, 0, 0, 0, 0, 0, 0, 0, 0,\n",
       "        0, 0, 0, 0, 0, 0, 0, 0, 0, 0, 0, 0, 0, 0, 0, 0, 0, 0, 0, 0, 0, 0, 0, 0,\n",
       "        0, 0, 0, 0, 0, 0, 0, 0])"
      ]
     },
     "execution_count": 15,
     "metadata": {},
     "output_type": "execute_result"
    }
   ],
   "execution_count": 15
  },
  {
   "metadata": {},
   "cell_type": "markdown",
   "source": "Типи даних тензорів (datatypes)",
   "id": "22d4146d3fc2b919"
  },
  {
   "metadata": {},
   "cell_type": "markdown",
   "source": [
    "3 ймовірні помилки в PyTorch\n",
    "\n",
    "1.) Тип даних\n",
    "\n",
    "2.) Розмірність\n",
    "\n",
    "3.) Невірний девайс"
   ],
   "id": "8324c1222417c676"
  },
  {
   "metadata": {
    "ExecuteTime": {
     "end_time": "2025-03-03T13:19:45.042013Z",
     "start_time": "2025-03-03T13:19:45.035001Z"
    }
   },
   "cell_type": "code",
   "source": [
    "float16_tensor = torch.tensor([3,6,9], dtype=torch.float16, # тип даних тензору\n",
    "                            device=None, # На якому девайсі тензор\n",
    "                            requires_grad=False)\n",
    "float16_tensor"
   ],
   "id": "692f3c853a68c934",
   "outputs": [
    {
     "data": {
      "text/plain": [
       "tensor([3., 6., 9.], dtype=torch.float16)"
      ]
     },
     "execution_count": 16,
     "metadata": {},
     "output_type": "execute_result"
    }
   ],
   "execution_count": 16
  },
  {
   "metadata": {
    "ExecuteTime": {
     "end_time": "2025-03-03T13:19:45.081086Z",
     "start_time": "2025-03-03T13:19:45.076471Z"
    }
   },
   "cell_type": "code",
   "source": [
    "float32_tensor = float16_tensor.type(torch.float32)\n",
    "float32_tensor"
   ],
   "id": "a817714bbd5ea187",
   "outputs": [
    {
     "data": {
      "text/plain": [
       "tensor([3., 6., 9.])"
      ]
     },
     "execution_count": 17,
     "metadata": {},
     "output_type": "execute_result"
    }
   ],
   "execution_count": 17
  },
  {
   "metadata": {
    "ExecuteTime": {
     "end_time": "2025-03-03T13:19:45.109736Z",
     "start_time": "2025-03-03T13:19:45.105510Z"
    }
   },
   "cell_type": "code",
   "source": "float16_tensor * float32_tensor",
   "id": "fe28bddc55ed7105",
   "outputs": [
    {
     "data": {
      "text/plain": [
       "tensor([ 9., 36., 81.])"
      ]
     },
     "execution_count": 18,
     "metadata": {},
     "output_type": "execute_result"
    }
   ],
   "execution_count": 18
  },
  {
   "metadata": {},
   "cell_type": "markdown",
   "source": "Отримання параметрів тензору",
   "id": "a861b62a65fa15dc"
  },
  {
   "metadata": {
    "ExecuteTime": {
     "end_time": "2025-03-03T13:19:45.150394Z",
     "start_time": "2025-03-03T13:19:45.144887Z"
    }
   },
   "cell_type": "code",
   "source": [
    "some_tensor = torch.randn(3, 4)\n",
    "some_tensor"
   ],
   "id": "19981093b6a3f10e",
   "outputs": [
    {
     "data": {
      "text/plain": [
       "tensor([[ 0.3793,  0.1780,  0.1634, -0.0015],\n",
       "        [ 0.2400, -1.1011, -0.6730, -0.7773],\n",
       "        [ 0.5644,  0.6363, -0.0665, -0.3495]])"
      ]
     },
     "execution_count": 19,
     "metadata": {},
     "output_type": "execute_result"
    }
   ],
   "execution_count": 19
  },
  {
   "metadata": {
    "ExecuteTime": {
     "end_time": "2025-03-03T13:19:45.191442Z",
     "start_time": "2025-03-03T13:19:45.187366Z"
    }
   },
   "cell_type": "code",
   "source": [
    "print(f\"Datatype:{some_tensor.dtype}\\n\"\n",
    "      f\"Shape:{some_tensor.shape}\\n\"\n",
    "      f\"Device:{some_tensor.device}\")"
   ],
   "id": "eacf794af784ef29",
   "outputs": [
    {
     "name": "stdout",
     "output_type": "stream",
     "text": [
      "Datatype:torch.float32\n",
      "Shape:torch.Size([3, 4])\n",
      "Device:cpu\n"
     ]
    }
   ],
   "execution_count": 20
  },
  {
   "metadata": {},
   "cell_type": "markdown",
   "source": [
    "Маніпуляції з тензорами:\n",
    "* '+'\n",
    "* '-'\n",
    "* '*'\n",
    "* '/'\n",
    "* '* [ ]'"
   ],
   "id": "fa3688accb0595d7"
  },
  {
   "metadata": {
    "ExecuteTime": {
     "end_time": "2025-03-03T13:19:45.231836Z",
     "start_time": "2025-03-03T13:19:45.226822Z"
    }
   },
   "cell_type": "code",
   "source": [
    "tensor = torch.tensor([1, 2, 3, 4, 5])\n",
    "# torch.add(tensor, 10)\n",
    "tensor + 10"
   ],
   "id": "e46643a1bef51a65",
   "outputs": [
    {
     "data": {
      "text/plain": [
       "tensor([11, 12, 13, 14, 15])"
      ]
     },
     "execution_count": 21,
     "metadata": {},
     "output_type": "execute_result"
    }
   ],
   "execution_count": 21
  },
  {
   "metadata": {
    "ExecuteTime": {
     "end_time": "2025-03-03T13:19:45.282268Z",
     "start_time": "2025-03-03T13:19:45.276906Z"
    }
   },
   "cell_type": "code",
   "source": "tensor - 10",
   "id": "72cb663dee1129e0",
   "outputs": [
    {
     "data": {
      "text/plain": [
       "tensor([-9, -8, -7, -6, -5])"
      ]
     },
     "execution_count": 22,
     "metadata": {},
     "output_type": "execute_result"
    }
   ],
   "execution_count": 22
  },
  {
   "metadata": {
    "ExecuteTime": {
     "end_time": "2025-03-03T13:19:45.322301Z",
     "start_time": "2025-03-03T13:19:45.318234Z"
    }
   },
   "cell_type": "code",
   "source": [
    "# torch.mul(tensor, 10)\n",
    "tensor * 10"
   ],
   "id": "93c533aed8530be4",
   "outputs": [
    {
     "data": {
      "text/plain": [
       "tensor([10, 20, 30, 40, 50])"
      ]
     },
     "execution_count": 23,
     "metadata": {},
     "output_type": "execute_result"
    }
   ],
   "execution_count": 23
  },
  {
   "metadata": {
    "ExecuteTime": {
     "end_time": "2025-03-03T13:19:45.358290Z",
     "start_time": "2025-03-03T13:19:45.354048Z"
    }
   },
   "cell_type": "code",
   "source": "tensor / 10",
   "id": "d847b8ee1a4dc0f9",
   "outputs": [
    {
     "data": {
      "text/plain": [
       "tensor([0.1000, 0.2000, 0.3000, 0.4000, 0.5000])"
      ]
     },
     "execution_count": 24,
     "metadata": {},
     "output_type": "execute_result"
    }
   ],
   "execution_count": 24
  },
  {
   "metadata": {},
   "cell_type": "markdown",
   "source": [
    "Матричне множення\n",
    "\n",
    "(ВИМОГА: КІЛЬКІСТЬ СТОВПЦІВ ПЕРШОЇ МАТРИЦІ ДОРІВНЮЄ КІЛЬКОСТІ РЯДКІВ ДРУГОЇ МАТРИЦІ)\n",
    "\n",
    "* (a, b) @ (b, c) -> (a, c)"
   ],
   "id": "3e8c0c35d31840b4"
  },
  {
   "metadata": {
    "ExecuteTime": {
     "end_time": "2025-03-03T13:19:45.392534Z",
     "start_time": "2025-03-03T13:19:45.383421Z"
    }
   },
   "cell_type": "code",
   "source": [
    "# torch.matmul(tensor, tensor)\n",
    "# torch.mm(tensor, tensor)\n",
    "tensor @ tensor"
   ],
   "id": "8caa637a628e2ea0",
   "outputs": [
    {
     "data": {
      "text/plain": [
       "tensor(55)"
      ]
     },
     "execution_count": 25,
     "metadata": {},
     "output_type": "execute_result"
    }
   ],
   "execution_count": 25
  },
  {
   "metadata": {},
   "cell_type": "markdown",
   "source": "Транспонування матриці",
   "id": "65e8299c50e5bcbc"
  },
  {
   "metadata": {
    "ExecuteTime": {
     "end_time": "2025-03-03T13:19:45.422751Z",
     "start_time": "2025-03-03T13:19:45.415170Z"
    }
   },
   "cell_type": "code",
   "source": [
    "print(torch.tensor([[1,2,3],\n",
    "                    [4,5,6]]).T)"
   ],
   "id": "cda1625c3502778a",
   "outputs": [
    {
     "name": "stdout",
     "output_type": "stream",
     "text": [
      "tensor([[1, 4],\n",
      "        [2, 5],\n",
      "        [3, 6]])\n"
     ]
    }
   ],
   "execution_count": 26
  },
  {
   "metadata": {},
   "cell_type": "markdown",
   "source": "min, max, mean, sum",
   "id": "9bba75a29857e3a4"
  },
  {
   "metadata": {
    "ExecuteTime": {
     "end_time": "2025-03-03T13:19:45.459206Z",
     "start_time": "2025-03-03T13:19:45.455459Z"
    }
   },
   "cell_type": "code",
   "source": [
    "x = torch.arange(start=1, end=10, step=5)\n",
    "x"
   ],
   "id": "df848e35840da3d4",
   "outputs": [
    {
     "data": {
      "text/plain": [
       "tensor([1, 6])"
      ]
     },
     "execution_count": 27,
     "metadata": {},
     "output_type": "execute_result"
    }
   ],
   "execution_count": 27
  },
  {
   "metadata": {},
   "cell_type": "markdown",
   "source": "min, max",
   "id": "e5061dddacf6c8af"
  },
  {
   "metadata": {
    "ExecuteTime": {
     "end_time": "2025-03-03T13:19:45.487653Z",
     "start_time": "2025-03-03T13:19:45.482596Z"
    }
   },
   "cell_type": "code",
   "source": "torch.min(x), torch.max(x)",
   "id": "13d8ee1c8104e8f0",
   "outputs": [
    {
     "data": {
      "text/plain": [
       "(tensor(1), tensor(6))"
      ]
     },
     "execution_count": 28,
     "metadata": {},
     "output_type": "execute_result"
    }
   ],
   "execution_count": 28
  },
  {
   "metadata": {
    "ExecuteTime": {
     "end_time": "2025-03-03T13:19:45.512254Z",
     "start_time": "2025-03-03T13:19:45.508724Z"
    }
   },
   "cell_type": "code",
   "source": "x.max(), x.min()",
   "id": "b6b8e42adb8c298f",
   "outputs": [
    {
     "data": {
      "text/plain": [
       "(tensor(6), tensor(1))"
      ]
     },
     "execution_count": 29,
     "metadata": {},
     "output_type": "execute_result"
    }
   ],
   "execution_count": 29
  },
  {
   "metadata": {},
   "cell_type": "markdown",
   "source": "Медіана",
   "id": "fa0814f6c63b98f9"
  },
  {
   "metadata": {
    "ExecuteTime": {
     "end_time": "2025-03-03T13:19:45.544367Z",
     "start_time": "2025-03-03T13:19:45.538633Z"
    }
   },
   "cell_type": "code",
   "source": "torch.mean(x.type(torch.float32))",
   "id": "e5da20bb00b15e3e",
   "outputs": [
    {
     "data": {
      "text/plain": [
       "tensor(3.5000)"
      ]
     },
     "execution_count": 30,
     "metadata": {},
     "output_type": "execute_result"
    }
   ],
   "execution_count": 30
  },
  {
   "metadata": {
    "ExecuteTime": {
     "end_time": "2025-03-03T13:19:45.578289Z",
     "start_time": "2025-03-03T13:19:45.573432Z"
    }
   },
   "cell_type": "code",
   "source": "x.type(torch.float32).mean()",
   "id": "80c16955e7d81394",
   "outputs": [
    {
     "data": {
      "text/plain": [
       "tensor(3.5000)"
      ]
     },
     "execution_count": 31,
     "metadata": {},
     "output_type": "execute_result"
    }
   ],
   "execution_count": 31
  },
  {
   "metadata": {},
   "cell_type": "markdown",
   "source": "Сума",
   "id": "6f5fc2c878d0ffcd"
  },
  {
   "metadata": {
    "ExecuteTime": {
     "end_time": "2025-03-03T13:19:45.606532Z",
     "start_time": "2025-03-03T13:19:45.601670Z"
    }
   },
   "cell_type": "code",
   "source": "x.sum(), torch.sum(x)",
   "id": "35ab8b05ef337ec6",
   "outputs": [
    {
     "data": {
      "text/plain": [
       "(tensor(7), tensor(7))"
      ]
     },
     "execution_count": 32,
     "metadata": {},
     "output_type": "execute_result"
    }
   ],
   "execution_count": 32
  },
  {
   "metadata": {},
   "cell_type": "markdown",
   "source": "Позиція min та max",
   "id": "7fcb7c8745ae8d67"
  },
  {
   "metadata": {
    "ExecuteTime": {
     "end_time": "2025-03-03T13:19:45.706741Z",
     "start_time": "2025-03-03T13:19:45.699634Z"
    }
   },
   "cell_type": "code",
   "source": "x.argmin()",
   "id": "b8cdde59f92e7e26",
   "outputs": [
    {
     "data": {
      "text/plain": [
       "tensor(0)"
      ]
     },
     "execution_count": 33,
     "metadata": {},
     "output_type": "execute_result"
    }
   ],
   "execution_count": 33
  },
  {
   "metadata": {
    "ExecuteTime": {
     "end_time": "2025-03-03T13:19:45.798887Z",
     "start_time": "2025-03-03T13:19:45.794430Z"
    }
   },
   "cell_type": "code",
   "source": "x.argmax()",
   "id": "20f115dc8988504c",
   "outputs": [
    {
     "data": {
      "text/plain": [
       "tensor(1)"
      ]
     },
     "execution_count": 34,
     "metadata": {},
     "output_type": "execute_result"
    }
   ],
   "execution_count": 34
  },
  {
   "metadata": {},
   "cell_type": "markdown",
   "source": [
    "torch.squeeze - прибирання розмірності, в яких один елемент\n",
    "\n",
    "Приклад: 3D -> 2D, якщо тільки один шар по z"
   ],
   "id": "a73cf6577593a610"
  },
  {
   "metadata": {
    "ExecuteTime": {
     "end_time": "2025-03-03T13:20:53.061431Z",
     "start_time": "2025-03-03T13:20:53.057927Z"
    }
   },
   "cell_type": "code",
   "source": "torch.tensor([[1,2,3]]).shape",
   "id": "89ce8305fb60cea5",
   "outputs": [
    {
     "data": {
      "text/plain": [
       "torch.Size([1, 3])"
      ]
     },
     "execution_count": 37,
     "metadata": {},
     "output_type": "execute_result"
    }
   ],
   "execution_count": 37
  },
  {
   "metadata": {
    "ExecuteTime": {
     "end_time": "2025-03-03T13:21:07.012279Z",
     "start_time": "2025-03-03T13:21:07.005511Z"
    }
   },
   "cell_type": "code",
   "source": "torch.tensor([[1,2,3]]).squeeze().shape",
   "id": "85b943b47ed5692f",
   "outputs": [
    {
     "data": {
      "text/plain": [
       "torch.Size([3])"
      ]
     },
     "execution_count": 38,
     "metadata": {},
     "output_type": "execute_result"
    }
   ],
   "execution_count": 38
  },
  {
   "metadata": {},
   "cell_type": "markdown",
   "source": [
    "unsqueeze(dim=0) - Додавання розмірності в позиції, яка вказана у параметрі dim\n",
    "\n",
    "Приклад: 2D -> 3D, якщо dim = 0"
   ],
   "id": "909820eb2c1694a3"
  },
  {
   "metadata": {
    "ExecuteTime": {
     "end_time": "2025-03-03T13:22:52.168376Z",
     "start_time": "2025-03-03T13:22:52.164167Z"
    }
   },
   "cell_type": "code",
   "source": "torch.tensor([[1,2,3]]).unsqueeze(dim=0).shape",
   "id": "d31f0d948ac9e2e3",
   "outputs": [
    {
     "data": {
      "text/plain": [
       "torch.Size([1, 1, 3])"
      ]
     },
     "execution_count": 43,
     "metadata": {},
     "output_type": "execute_result"
    }
   ],
   "execution_count": 43
  },
  {
   "metadata": {},
   "cell_type": "markdown",
   "source": "permute -> Переміщення розмірностей. Зміна shape",
   "id": "af37feed6d8000e"
  },
  {
   "metadata": {
    "ExecuteTime": {
     "end_time": "2025-03-03T13:26:48.963001Z",
     "start_time": "2025-03-03T13:26:48.957811Z"
    }
   },
   "cell_type": "code",
   "source": [
    "x_original = torch.rand(size=(224,224,3))\n",
    "x_original.shape"
   ],
   "id": "503f02fb3199b9f3",
   "outputs": [
    {
     "data": {
      "text/plain": [
       "torch.Size([224, 224, 3])"
      ]
     },
     "execution_count": 45,
     "metadata": {},
     "output_type": "execute_result"
    }
   ],
   "execution_count": 45
  },
  {
   "metadata": {
    "ExecuteTime": {
     "end_time": "2025-03-03T13:27:05.476281Z",
     "start_time": "2025-03-03T13:27:05.470984Z"
    }
   },
   "cell_type": "code",
   "source": [
    "x_permuted = x_original.permute(0,2,1)\n",
    "x_permuted.shape"
   ],
   "id": "19c7acedd9868ad4",
   "outputs": [
    {
     "data": {
      "text/plain": [
       "torch.Size([224, 3, 224])"
      ]
     },
     "execution_count": 46,
     "metadata": {},
     "output_type": "execute_result"
    }
   ],
   "execution_count": 46
  },
  {
   "metadata": {},
   "cell_type": "markdown",
   "source": [
    "Індексація\n",
    "\n",
    "reshape - перебудова шейпу тензора. У випадку нижче - з масиву створюється шар кубу (3D)"
   ],
   "id": "6dedcf0b8204c4a2"
  },
  {
   "metadata": {
    "ExecuteTime": {
     "end_time": "2025-03-03T13:33:28.823086Z",
     "start_time": "2025-03-03T13:33:28.818970Z"
    }
   },
   "cell_type": "code",
   "source": [
    "x = torch.arange(start=1, end=10, step=1).reshape(1, 3, 3)\n",
    "x, x.shape"
   ],
   "id": "4f6206801ffb637b",
   "outputs": [
    {
     "data": {
      "text/plain": [
       "(tensor([[[1, 2, 3],\n",
       "          [4, 5, 6],\n",
       "          [7, 8, 9]]]),\n",
       " torch.Size([1, 3, 3]))"
      ]
     },
     "execution_count": 50,
     "metadata": {},
     "output_type": "execute_result"
    }
   ],
   "execution_count": 50
  },
  {
   "metadata": {
    "ExecuteTime": {
     "end_time": "2025-03-03T13:34:44.564839Z",
     "start_time": "2025-03-03T13:34:44.561436Z"
    }
   },
   "cell_type": "code",
   "source": "x[0][1][0]",
   "id": "96d472b396a5b50c",
   "outputs": [
    {
     "data": {
      "text/plain": [
       "tensor(4)"
      ]
     },
     "execution_count": 51,
     "metadata": {},
     "output_type": "execute_result"
    }
   ],
   "execution_count": 51
  },
  {
   "metadata": {
    "ExecuteTime": {
     "end_time": "2025-03-03T13:36:50.978620Z",
     "start_time": "2025-03-03T13:36:50.974374Z"
    }
   },
   "cell_type": "code",
   "source": "x[:]",
   "id": "5dc3abf4f32b248e",
   "outputs": [
    {
     "data": {
      "text/plain": [
       "tensor([[[1, 2, 3],\n",
       "         [4, 5, 6],\n",
       "         [7, 8, 9]]])"
      ]
     },
     "execution_count": 52,
     "metadata": {},
     "output_type": "execute_result"
    }
   ],
   "execution_count": 52
  },
  {
   "metadata": {},
   "cell_type": "markdown",
   "source": "З першої розмірності отримати елемент по першому індексу",
   "id": "ac9d1de2028b941"
  },
  {
   "metadata": {
    "ExecuteTime": {
     "end_time": "2025-03-03T13:37:11.444754Z",
     "start_time": "2025-03-03T13:37:11.441397Z"
    }
   },
   "cell_type": "code",
   "source": "print(x[:, 1])",
   "id": "9611aab06c8ecdb1",
   "outputs": [
    {
     "name": "stdout",
     "output_type": "stream",
     "text": [
      "tensor([[4, 5, 6]])\n"
     ]
    }
   ],
   "execution_count": 55
  },
  {
   "metadata": {},
   "cell_type": "markdown",
   "source": "З першої розмірності, в усіх її елементах, узяти елементи за першим індексом",
   "id": "a01f0ea158ebf9cb"
  },
  {
   "metadata": {
    "ExecuteTime": {
     "end_time": "2025-03-03T13:37:19.513421Z",
     "start_time": "2025-03-03T13:37:19.507551Z"
    }
   },
   "cell_type": "code",
   "source": "print(x[:, :, 1])",
   "id": "5d5aa87acca49bfd",
   "outputs": [
    {
     "name": "stdout",
     "output_type": "stream",
     "text": [
      "tensor([[2, 5, 8]])\n"
     ]
    }
   ],
   "execution_count": 56
  },
  {
   "metadata": {},
   "cell_type": "markdown",
   "source": "## PyTorch та tensors на GPU",
   "id": "9247f0d1af03d6b9"
  }
 ],
 "metadata": {
  "kernelspec": {
   "display_name": "Python 3",
   "language": "python",
   "name": "python3"
  },
  "language_info": {
   "codemirror_mode": {
    "name": "ipython",
    "version": 2
   },
   "file_extension": ".py",
   "mimetype": "text/x-python",
   "name": "python",
   "nbconvert_exporter": "python",
   "pygments_lexer": "ipython2",
   "version": "2.7.6"
  }
 },
 "nbformat": 4,
 "nbformat_minor": 5
}
