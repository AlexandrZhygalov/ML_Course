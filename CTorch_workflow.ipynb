{
 "cells": [
  {
   "metadata": {},
   "cell_type": "markdown",
   "source": "# PyTorch Workflow",
   "id": "febe42d2ded9eb7c"
  },
  {
   "metadata": {
    "ExecuteTime": {
     "end_time": "2025-03-03T13:55:51.117771Z",
     "start_time": "2025-03-03T13:55:51.114842Z"
    }
   },
   "cell_type": "code",
   "source": [
    "what_were_covering = {1 : \"data (prepare and load)\",\n",
    "                      2 : \"building model\",\n",
    "                      3 : \"fitting model\",\n",
    "                      4 : \"predicting\",\n",
    "                      5 : \"saving and loading model\"}"
   ],
   "id": "2cbed05c142bd7f",
   "outputs": [],
   "execution_count": 2
  },
  {
   "metadata": {
    "ExecuteTime": {
     "end_time": "2025-03-03T13:55:52.183803Z",
     "start_time": "2025-03-03T13:55:52.181610Z"
    }
   },
   "cell_type": "code",
   "source": [
    "import torch\n",
    "from torch import nn # neural network\n",
    "import matplotlib.pyplot as plt"
   ],
   "id": "be1387680ced5810",
   "outputs": [],
   "execution_count": 3
  },
  {
   "metadata": {},
   "cell_type": "markdown",
   "source": "## Data (prepare and load)",
   "id": "7ef226a068dc3fc1"
  },
  {
   "metadata": {},
   "cell_type": "markdown",
   "source": "Спробуємо зробити лінійну регресію",
   "id": "10eeb1e576149f42"
  },
  {
   "metadata": {
    "ExecuteTime": {
     "end_time": "2025-03-03T14:04:19.219802Z",
     "start_time": "2025-03-03T14:04:19.153954Z"
    }
   },
   "cell_type": "code",
   "source": [
    "weight = 0.7\n",
    "bias = 0.3\n",
    "\n",
    "start = 0\n",
    "end = 1\n",
    "step = 0.02\n",
    "X = torch.arange(start, end, step).unsqueeze(dim=1)\n",
    "y = weight * X + bias\n",
    "\n",
    "X[:10], y[:10]"
   ],
   "id": "b9352c428ffb626",
   "outputs": [
    {
     "data": {
      "text/plain": [
       "(tensor([[0.0000],\n",
       "         [0.0200],\n",
       "         [0.0400],\n",
       "         [0.0600],\n",
       "         [0.0800],\n",
       "         [0.1000],\n",
       "         [0.1200],\n",
       "         [0.1400],\n",
       "         [0.1600],\n",
       "         [0.1800]]),\n",
       " tensor([[0.3000],\n",
       "         [0.3140],\n",
       "         [0.3280],\n",
       "         [0.3420],\n",
       "         [0.3560],\n",
       "         [0.3700],\n",
       "         [0.3840],\n",
       "         [0.3980],\n",
       "         [0.4120],\n",
       "         [0.4260]]))"
      ]
     },
     "execution_count": 4,
     "metadata": {},
     "output_type": "execute_result"
    }
   ],
   "execution_count": 4
  },
  {
   "metadata": {},
   "cell_type": "markdown",
   "source": [
    "Розділення датасету на train та test набори даних\n",
    "* train - 60% - модель навчається\n",
    "* valid - 20% - перевірка точності, підгонка параметрів\n",
    "* test - 20% - робота моделі, передбачення"
   ],
   "id": "769e646509257a2d"
  },
  {
   "metadata": {
    "ExecuteTime": {
     "end_time": "2025-03-03T14:23:34.205867Z",
     "start_time": "2025-03-03T14:23:34.203445Z"
    }
   },
   "cell_type": "code",
   "source": [
    "train_split = int(0.8 * len(X))\n",
    "X_train, y_train = X[:train_split], y[:train_split] # 60% + 20%\n",
    "X_test, y_test = X[train_split:], y[train_split:] # 20%"
   ],
   "id": "16ef15082a69721e",
   "outputs": [],
   "execution_count": 7
  },
  {
   "metadata": {},
   "cell_type": "markdown",
   "source": "Візуалізація датасету",
   "id": "300ebc6c739f1e16"
  },
  {
   "metadata": {
    "ExecuteTime": {
     "end_time": "2025-03-03T14:23:35.418556Z",
     "start_time": "2025-03-03T14:23:35.239661Z"
    }
   },
   "cell_type": "code",
   "source": [
    "def plot_pred(predictions = None):\n",
    "    plt.figure(figsize = (8,8))\n",
    "    plt.scatter(X_train, y_train, c=\"b\", s=4, label=\"training data\")\n",
    "    plt.scatter(X_test, y_test, c=\"g\", s=4, label=\"test data\")\n",
    "\n",
    "    if predictions is not None:\n",
    "        plt.scatter(X_test, predictions, c=\"r\", s=4, label=\"predictions\")\n",
    "\n",
    "    plt.legend(prop={'size': 14})\n",
    "\n",
    "\n",
    "plot_pred()"
   ],
   "id": "8957baa15f2d659b",
   "outputs": [
    {
     "data": {
      "text/plain": [
       "<Figure size 800x800 with 1 Axes>"
      ],
      "image/png": "[encoded data removed]"
     },
     "metadata": {},
     "output_type": "display_data"
    }
   ],
   "execution_count": 8
  },
  {
   "metadata": {},
   "cell_type": "markdown",
   "source": "# Model",
   "id": "a94afe2280da9f0e"
  },
  {
   "metadata": {},
   "cell_type": "markdown",
   "source": "Лінійна регресія",
   "id": "807c765e686297ac"
  },
  {
   "metadata": {},
   "cell_type": "code",
   "outputs": [],
   "execution_count": null,
   "source": [
    "class LinearRegressionModel(nn.Module):\n",
    "    def __init__(self):\n",
    "        super().__init__()\n",
    "        self.weight = nn.Parameter(torch.randn(1,\n",
    "                                               requires_grad=True,\n",
    "                                               dtype=torch.float))\n",
    "        self.bias = nn.Parameter(torch.randn(1,\n",
    "                                             requires_grad=True,\n",
    "                                             dtype=torch.float))\n",
    "\n",
    "    def forward(self, x: torch.Tensor) -> torch.Tensor:\n",
    "        return self.weight * x + self.bias"
   ],
   "id": "bd14a49463b63e01"
  }
 ],
 "metadata": {
  "kernelspec": {
   "display_name": "Python 3",
   "language": "python",
   "name": "python3"
  },
  "language_info": {
   "codemirror_mode": {
    "name": "ipython",
    "version": 2
   },
   "file_extension": ".py",
   "mimetype": "text/x-python",
   "name": "python",
   "nbconvert_exporter": "python",
   "pygments_lexer": "ipython2",
   "version": "2.7.6"
  }
 },
 "nbformat": 4,
 "nbformat_minor": 5
}
