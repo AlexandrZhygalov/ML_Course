{
 "cells": [
  {
   "metadata": {},
   "cell_type": "markdown",
   "source": "****03.02: моделі****",
   "id": "7f173ea4329ea842"
  },
  {
   "metadata": {},
   "cell_type": "markdown",
   "source": "Визначимо знак функції в залежності від значення аргументів",
   "id": "bf52b6244f2660b0"
  },
  {
   "metadata": {},
   "cell_type": "markdown",
   "source": "У моделях є 3 штуки (на прикладі функції с = a x1+b x2-d + l(a^2+b^2)):",
   "id": "f913d197dde54b30"
  },
  {
   "metadata": {},
   "cell_type": "markdown",
   "source": "Розмірності (Dimensions) - х1, х2, f1, f2",
   "id": "3925e4ee5ebe2aa7"
  },
  {
   "metadata": {},
   "cell_type": "markdown",
   "source": "Параметри (Parameters) - a, b, d",
   "id": "6bbbd39c1dec8442"
  },
  {
   "metadata": {},
   "cell_type": "markdown",
   "source": "Гіперпараметри (hyperparameter) - l (Те, що задається до навчання. Як саме модель буде навчатись)",
   "id": "b0dc3e7ffbd4ea0f"
  },
  {
   "metadata": {},
   "cell_type": "markdown",
   "source": "Для цього прикладу, якщо переробити цю функцію на лінійну регресію, то:",
   "id": "cf14cf7911823184"
  },
  {
   "metadata": {},
   "cell_type": "markdown",
   "source": "a, b -> w1, w2: weight (ваги) (визначається під час навчання)",
   "id": "64f3c7fb5639814d"
  },
  {
   "metadata": {},
   "cell_type": "markdown",
   "source": "x1, x2: features (фічі) (початкові дані)",
   "id": "af95ade51f80c119"
  },
  {
   "metadata": {},
   "cell_type": "markdown",
   "source": "l: гіперпараметр (задається до навчання)",
   "id": "c92472ca599f19ca"
  },
  {
   "metadata": {},
   "cell_type": "markdown",
   "source": "Сенс навчання: підібрати такі параметри, щоб різниця передбачених та справжніх значень була нулем або наближеним до нуля",
   "id": "ca0fa1af595ac18a"
  },
  {
   "cell_type": "code",
   "id": "initial_id",
   "metadata": {
    "collapsed": true,
    "ExecuteTime": {
     "end_time": "2025-02-03T07:33:45.172092Z",
     "start_time": "2025-02-03T07:33:45.168714Z"
    }
   },
   "source": [
    "def g(x1,x2):\n",
    "    c = 2*x1+4*x2-10\n",
    "    if c<0:\n",
    "        return -1\n",
    "    else:\n",
    "        return 1\n",
    "print(g(2, 3))"
   ],
   "outputs": [
    {
     "name": "stdout",
     "output_type": "stream",
     "text": [
      "1\n"
     ]
    }
   ],
   "execution_count": 7
  },
  {
   "metadata": {
    "ExecuteTime": {
     "end_time": "2025-02-03T07:36:38.827988Z",
     "start_time": "2025-02-03T07:36:38.824885Z"
    }
   },
   "cell_type": "code",
   "source": "print(g(5, -6))",
   "id": "3cf3372c31a926ce",
   "outputs": [
    {
     "name": "stdout",
     "output_type": "stream",
     "text": [
      "-1\n"
     ]
    }
   ],
   "execution_count": 9
  },
  {
   "metadata": {},
   "cell_type": "markdown",
   "source": "Змінений приклад",
   "id": "257a9dc10404a57"
  },
  {
   "metadata": {},
   "cell_type": "code",
   "outputs": [],
   "execution_count": null,
   "source": [
    "def g(x1,x2, a, b, d, e):\n",
    "    c = a*x1+b*x2+d*(x1**2)-e\n",
    "    if c<0:\n",
    "        y_pred = -1\n",
    "    else:\n",
    "        y_pred = 1"
   ],
   "id": "f9c3e193ad310172"
  },
  {
   "metadata": {},
   "cell_type": "markdown",
   "source": "*Метрика помилки*",
   "id": "39aac98427c529"
  },
  {
   "metadata": {},
   "cell_type": "markdown",
   "source": "MSE - середня квадратична помилка. Сума квадратів різниць передбачених та справжніх значень поділене на кількість доданків",
   "id": "2b6b1cd8d37c58d6"
  },
  {
   "metadata": {},
   "cell_type": "markdown",
   "source": "*Лінійна регресія*",
   "id": "dae8bd1849682c51"
  },
  {
   "metadata": {},
   "cell_type": "markdown",
   "source": [
    "Приклад: yi = a*xi + b\n",
    "\n",
    "y = X*A\n",
    "\n",
    "y - матриця ігриків, передбачень\n",
    "\n",
    "X - матриця значень (двовимірна nx2, де друга колонка - одиниці)\n",
    "\n",
    "A - матриця параметрів (a, b)"
   ],
   "id": "73e69d47ef9a6bda"
  },
  {
   "metadata": {
    "ExecuteTime": {
     "end_time": "2025-02-03T09:33:37.490228Z",
     "start_time": "2025-02-03T09:33:37.487567Z"
    }
   },
   "cell_type": "code",
   "source": [
    "import pandas as pd\n",
    "import numpy as np\n",
    "import matplotlib.pyplot as plt\n",
    "import seaborn as sns\n",
    "\n",
    "sns.set_theme()"
   ],
   "id": "3b8532ee3c2e533a",
   "outputs": [],
   "execution_count": 48
  },
  {
   "metadata": {},
   "cell_type": "markdown",
   "source": "Для прикладу, візьмемо такий графік",
   "id": "25fb527c0a0f60c6"
  },
  {
   "metadata": {
    "ExecuteTime": {
     "end_time": "2025-02-03T09:33:39.010599Z",
     "start_time": "2025-02-03T09:33:38.960688Z"
    }
   },
   "cell_type": "code",
   "source": [
    "n = 20\n",
    "X = np.arange(n)\n",
    "y = 4*X + 3 + np.random.randn(X.size)\n",
    "plt.scatter(X, y)\n",
    "plt.show()"
   ],
   "id": "b21dbb2657ce7221",
   "outputs": [
    {
     "data": {
      "text/plain": [
       "<Figure size 640x480 with 1 Axes>"
      ],
      "image/png": "[encoded data removed]"
     },
     "metadata": {},
     "output_type": "display_data"
    }
   ],
   "execution_count": 49
  },
  {
   "metadata": {},
   "cell_type": "markdown",
   "source": "Кількість точок координатний прямиї",
   "id": "750a59d15674c42a"
  },
  {
   "metadata": {
    "ExecuteTime": {
     "end_time": "2025-02-03T09:33:40.774466Z",
     "start_time": "2025-02-03T09:33:40.770727Z"
    }
   },
   "cell_type": "code",
   "source": "X.shape",
   "id": "97199d7e24528ee1",
   "outputs": [
    {
     "data": {
      "text/plain": [
       "(20,)"
      ]
     },
     "execution_count": 50,
     "metadata": {},
     "output_type": "execute_result"
    }
   ],
   "execution_count": 50
  },
  {
   "metadata": {
    "ExecuteTime": {
     "end_time": "2025-02-03T09:33:41.879091Z",
     "start_time": "2025-02-03T09:33:41.875590Z"
    }
   },
   "cell_type": "code",
   "source": "y.shape",
   "id": "6146dd50d74b1707",
   "outputs": [
    {
     "data": {
      "text/plain": [
       "(20,)"
      ]
     },
     "execution_count": 51,
     "metadata": {},
     "output_type": "execute_result"
    }
   ],
   "execution_count": 51
  },
  {
   "metadata": {},
   "cell_type": "markdown",
   "source": "Створюємо вектор стовпчик одиниць",
   "id": "7f338a3700cdf62c"
  },
  {
   "metadata": {
    "ExecuteTime": {
     "end_time": "2025-02-03T09:33:43.009768Z",
     "start_time": "2025-02-03T09:33:43.006650Z"
    }
   },
   "cell_type": "code",
   "source": [
    "on = np.ones((X.size, 1))\n",
    "on.shape"
   ],
   "id": "db88db7be6e5b600",
   "outputs": [
    {
     "data": {
      "text/plain": [
       "(20, 1)"
      ]
     },
     "execution_count": 52,
     "metadata": {},
     "output_type": "execute_result"
    }
   ],
   "execution_count": 52
  },
  {
   "metadata": {},
   "cell_type": "markdown",
   "source": "Перетворення Х та вектор стовпчик",
   "id": "bc1b9c4da17f07e3"
  },
  {
   "metadata": {
    "ExecuteTime": {
     "end_time": "2025-02-03T09:33:44.264887Z",
     "start_time": "2025-02-03T09:33:44.261610Z"
    }
   },
   "cell_type": "code",
   "source": "X",
   "id": "21a5ff413c29bf72",
   "outputs": [
    {
     "data": {
      "text/plain": [
       "array([ 0,  1,  2,  3,  4,  5,  6,  7,  8,  9, 10, 11, 12, 13, 14, 15, 16,\n",
       "       17, 18, 19])"
      ]
     },
     "execution_count": 53,
     "metadata": {},
     "output_type": "execute_result"
    }
   ],
   "execution_count": 53
  },
  {
   "metadata": {
    "ExecuteTime": {
     "end_time": "2025-02-03T09:33:45.814738Z",
     "start_time": "2025-02-03T09:33:45.810913Z"
    }
   },
   "cell_type": "code",
   "source": "X[:, np.newaxis]",
   "id": "7e3bd1ed760d1478",
   "outputs": [
    {
     "data": {
      "text/plain": [
       "array([[ 0],\n",
       "       [ 1],\n",
       "       [ 2],\n",
       "       [ 3],\n",
       "       [ 4],\n",
       "       [ 5],\n",
       "       [ 6],\n",
       "       [ 7],\n",
       "       [ 8],\n",
       "       [ 9],\n",
       "       [10],\n",
       "       [11],\n",
       "       [12],\n",
       "       [13],\n",
       "       [14],\n",
       "       [15],\n",
       "       [16],\n",
       "       [17],\n",
       "       [18],\n",
       "       [19]])"
      ]
     },
     "execution_count": 54,
     "metadata": {},
     "output_type": "execute_result"
    }
   ],
   "execution_count": 54
  },
  {
   "metadata": {},
   "cell_type": "markdown",
   "source": "Прикріпляємо до Х вектор стовпчик одиниць",
   "id": "65393a46efcb3738"
  },
  {
   "metadata": {
    "ExecuteTime": {
     "end_time": "2025-02-03T09:33:47.717104Z",
     "start_time": "2025-02-03T09:33:47.714811Z"
    }
   },
   "cell_type": "code",
   "source": "X2 = np.hstack((X[:, np.newaxis], on))",
   "id": "7170b7da0791915d",
   "outputs": [],
   "execution_count": 55
  },
  {
   "metadata": {
    "ExecuteTime": {
     "end_time": "2025-02-03T09:33:48.841189Z",
     "start_time": "2025-02-03T09:33:48.837873Z"
    }
   },
   "cell_type": "code",
   "source": "X2",
   "id": "d9a81b5540b2a40f",
   "outputs": [
    {
     "data": {
      "text/plain": [
       "array([[ 0.,  1.],\n",
       "       [ 1.,  1.],\n",
       "       [ 2.,  1.],\n",
       "       [ 3.,  1.],\n",
       "       [ 4.,  1.],\n",
       "       [ 5.,  1.],\n",
       "       [ 6.,  1.],\n",
       "       [ 7.,  1.],\n",
       "       [ 8.,  1.],\n",
       "       [ 9.,  1.],\n",
       "       [10.,  1.],\n",
       "       [11.,  1.],\n",
       "       [12.,  1.],\n",
       "       [13.,  1.],\n",
       "       [14.,  1.],\n",
       "       [15.,  1.],\n",
       "       [16.,  1.],\n",
       "       [17.,  1.],\n",
       "       [18.,  1.],\n",
       "       [19.,  1.]])"
      ]
     },
     "execution_count": 56,
     "metadata": {},
     "output_type": "execute_result"
    }
   ],
   "execution_count": 56
  },
  {
   "metadata": {},
   "cell_type": "markdown",
   "source": "Перетворення y в вектор стовпчик",
   "id": "dbac7209f6523c8d"
  },
  {
   "metadata": {
    "ExecuteTime": {
     "end_time": "2025-02-03T09:33:50.481947Z",
     "start_time": "2025-02-03T09:33:50.478963Z"
    }
   },
   "cell_type": "code",
   "source": [
    "y = y[:, np.newaxis]\n",
    "y.shape"
   ],
   "id": "cbb3a495f0623a7d",
   "outputs": [
    {
     "data": {
      "text/plain": [
       "(20, 1)"
      ]
     },
     "execution_count": 57,
     "metadata": {},
     "output_type": "execute_result"
    }
   ],
   "execution_count": 57
  },
  {
   "metadata": {},
   "cell_type": "markdown",
   "source": "Розв’язок задачі найменших квадратів для переозначеної системи лінійних рівнянь",
   "id": "73cb505b3b852237"
  },
  {
   "metadata": {
    "ExecuteTime": {
     "end_time": "2025-02-03T09:33:52.024406Z",
     "start_time": "2025-02-03T09:33:52.021684Z"
    }
   },
   "cell_type": "code",
   "source": "a = np.linalg.lstsq(X2, y, rcond=None)",
   "id": "2e05064d7093c951",
   "outputs": [],
   "execution_count": 58
  },
  {
   "metadata": {},
   "cell_type": "markdown",
   "source": [
    "Повернене значення (a) — кортеж із 4 елементів:\n",
    "\n",
    "a(0) — вектор коефіцієнтів β (розмірністю n × 1), що мінімізує різницю ||X2β - y||.\n",
    "\n",
    "a(1) — масив квадратів залишків (різниця між передбаченими та реальними значеннями y), якщо m > n, інакше порожній масив.\n",
    "\n",
    "a(2) — ранг матриці X2.\n",
    "\n",
    "a(3) — сингулярні числа X2."
   ],
   "id": "87c584a8aa776403"
  },
  {
   "metadata": {
    "ExecuteTime": {
     "end_time": "2025-02-03T09:38:11.994922Z",
     "start_time": "2025-02-03T09:38:11.991789Z"
    }
   },
   "cell_type": "code",
   "source": "type(a)",
   "id": "13c6acbf6928e0e9",
   "outputs": [
    {
     "data": {
      "text/plain": [
       "tuple"
      ]
     },
     "execution_count": 61,
     "metadata": {},
     "output_type": "execute_result"
    }
   ],
   "execution_count": 61
  },
  {
   "metadata": {
    "ExecuteTime": {
     "end_time": "2025-02-03T09:38:05.905968Z",
     "start_time": "2025-02-03T09:38:05.902721Z"
    }
   },
   "cell_type": "code",
   "source": "a",
   "id": "3d5ff817743144dc",
   "outputs": [
    {
     "data": {
      "text/plain": [
       "(array([[3.98013886],\n",
       "        [2.89927169]]),\n",
       " array([23.02115301]),\n",
       " np.int32(2),\n",
       " array([49.84623483,  2.31362763]))"
      ]
     },
     "execution_count": 60,
     "metadata": {},
     "output_type": "execute_result"
    }
   ],
   "execution_count": 60
  },
  {
   "metadata": {
    "ExecuteTime": {
     "end_time": "2025-02-03T09:33:53.064508Z",
     "start_time": "2025-02-03T09:33:53.061527Z"
    }
   },
   "cell_type": "code",
   "source": "a[0]",
   "id": "7bf553767fa35f60",
   "outputs": [
    {
     "data": {
      "text/plain": [
       "array([[3.98013886],\n",
       "       [2.89927169]])"
      ]
     },
     "execution_count": 59,
     "metadata": {},
     "output_type": "execute_result"
    }
   ],
   "execution_count": 59
  },
  {
   "metadata": {
    "ExecuteTime": {
     "end_time": "2025-02-03T10:39:23.035982Z",
     "start_time": "2025-02-03T10:39:23.033290Z"
    }
   },
   "cell_type": "code",
   "source": "y_pred = a[0][0]*X+a[0][1]",
   "id": "57ce872afa51a037",
   "outputs": [],
   "execution_count": 62
  },
  {
   "metadata": {
    "ExecuteTime": {
     "end_time": "2025-02-03T10:39:43.081060Z",
     "start_time": "2025-02-03T10:39:43.017096Z"
    }
   },
   "cell_type": "code",
   "source": [
    "plt.scatter(X, y)\n",
    "plt.plot(X, y_pred, color='red')"
   ],
   "id": "d406e1d892ef69b0",
   "outputs": [
    {
     "data": {
      "text/plain": [
       "[<matplotlib.lines.Line2D at 0x146f0206930>]"
      ]
     },
     "execution_count": 64,
     "metadata": {},
     "output_type": "execute_result"
    },
    {
     "data": {
      "text/plain": [
       "<Figure size 640x480 with 1 Axes>"
      ],
      "image/png": "[encoded data removed]"
     },
     "metadata": {},
     "output_type": "display_data"
    }
   ],
   "execution_count": 64
  }
 ],
 "metadata": {
  "kernelspec": {
   "display_name": "Python 3",
   "language": "python",
   "name": "python3"
  },
  "language_info": {
   "codemirror_mode": {
    "name": "ipython",
    "version": 2
   },
   "file_extension": ".py",
   "mimetype": "text/x-python",
   "name": "python",
   "nbconvert_exporter": "python",
   "pygments_lexer": "ipython2",
   "version": "2.7.6"
  }
 },
 "nbformat": 4,
 "nbformat_minor": 5
}
