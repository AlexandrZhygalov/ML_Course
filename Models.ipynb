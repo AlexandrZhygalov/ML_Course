{
 "cells": [
  {
   "metadata": {},
   "cell_type": "markdown",
   "source": "****03.02: моделі****",
   "id": "7f173ea4329ea842"
  },
  {
   "metadata": {},
   "cell_type": "markdown",
   "source": "Визначимо знак функції в залежності від значення аргументів",
   "id": "bf52b6244f2660b0"
  },
  {
   "metadata": {},
   "cell_type": "markdown",
   "source": "У моделях є 3 штуки (на прикладі функції с = a x1+b x2-d + l(a^2+b^2)):",
   "id": "f913d197dde54b30"
  },
  {
   "metadata": {},
   "cell_type": "markdown",
   "source": "Розмірності (Dimensions) - х1, х2, f1, f2",
   "id": "3925e4ee5ebe2aa7"
  },
  {
   "metadata": {},
   "cell_type": "markdown",
   "source": "Параметри (Parameters) - a, b, d",
   "id": "6bbbd39c1dec8442"
  },
  {
   "metadata": {},
   "cell_type": "markdown",
   "source": "Гіперпараметри (hyperparameter) - l (Те, що задається до навчання. Як саме модель буде навчатись)",
   "id": "b0dc3e7ffbd4ea0f"
  },
  {
   "metadata": {},
   "cell_type": "markdown",
   "source": "Для цього прикладу, якщо переробити цю функцію на лінійну регресію, то:",
   "id": "cf14cf7911823184"
  },
  {
   "metadata": {},
   "cell_type": "markdown",
   "source": "a, b -> w1, w2: weight (ваги) (визначається під час навчання)",
   "id": "64f3c7fb5639814d"
  },
  {
   "metadata": {},
   "cell_type": "markdown",
   "source": "x1, x2: features (фічі) (початкові дані)",
   "id": "af95ade51f80c119"
  },
  {
   "metadata": {},
   "cell_type": "markdown",
   "source": "l: гіперпараметр (задається до навчання)",
   "id": "c92472ca599f19ca"
  },
  {
   "metadata": {},
   "cell_type": "markdown",
   "source": "Сенс навчання: підібрати такі параметри, щоб різниця передбачених та справжніх значень була нулем або наближеним до нуля",
   "id": "ca0fa1af595ac18a"
  },
  {
   "cell_type": "code",
   "id": "initial_id",
   "metadata": {
    "collapsed": true,
    "ExecuteTime": {
     "end_time": "2025-02-06T08:50:43.218041Z",
     "start_time": "2025-02-06T08:50:43.214530Z"
    }
   },
   "source": [
    "from statistics import LinearRegression\n",
    "\n",
    "from sklearn.preprocessing import PolynomialFeatures\n",
    "\n",
    "\n",
    "def g(x1,x2):\n",
    "    c = 2*x1+4*x2-10\n",
    "    if c<0:\n",
    "        return -1\n",
    "    else:\n",
    "        return 1\n",
    "print(g(2, 3))"
   ],
   "outputs": [
    {
     "name": "stdout",
     "output_type": "stream",
     "text": [
      "1\n"
     ]
    }
   ],
   "execution_count": 1
  },
  {
   "metadata": {
    "ExecuteTime": {
     "end_time": "2025-02-06T08:50:43.233779Z",
     "start_time": "2025-02-06T08:50:43.231071Z"
    }
   },
   "cell_type": "code",
   "source": "print(g(5, -6))",
   "id": "3cf3372c31a926ce",
   "outputs": [
    {
     "name": "stdout",
     "output_type": "stream",
     "text": [
      "-1\n"
     ]
    }
   ],
   "execution_count": 2
  },
  {
   "metadata": {},
   "cell_type": "markdown",
   "source": "Змінений приклад",
   "id": "257a9dc10404a57"
  },
  {
   "metadata": {
    "ExecuteTime": {
     "end_time": "2025-02-06T08:50:43.595110Z",
     "start_time": "2025-02-06T08:50:43.592008Z"
    }
   },
   "cell_type": "code",
   "source": [
    "def g(x1,x2, a, b, d, e):\n",
    "    c = a*x1+b*x2+d*(x1**2)-e\n",
    "    if c<0:\n",
    "        y_pred = -1\n",
    "    else:\n",
    "        y_pred = 1"
   ],
   "id": "f9c3e193ad310172",
   "outputs": [],
   "execution_count": 3
  },
  {
   "metadata": {},
   "cell_type": "markdown",
   "source": "*Метрика помилки*",
   "id": "39aac98427c529"
  },
  {
   "metadata": {},
   "cell_type": "markdown",
   "source": "MSE - середня квадратична помилка. Сума квадратів різниць передбачених та справжніх значень поділене на кількість доданків",
   "id": "2b6b1cd8d37c58d6"
  },
  {
   "metadata": {},
   "cell_type": "markdown",
   "source": "*Лінійна регресія*",
   "id": "dae8bd1849682c51"
  },
  {
   "metadata": {},
   "cell_type": "markdown",
   "source": [
    "Приклад: yi = a*xi + b\n",
    "\n",
    "y = X*A\n",
    "\n",
    "y - матриця ігриків, передбачень\n",
    "\n",
    "X - матриця значень (двовимірна nx2, де друга колонка - одиниці)\n",
    "\n",
    "A - матриця параметрів (a, b)"
   ],
   "id": "73e69d47ef9a6bda"
  },
  {
   "metadata": {
    "ExecuteTime": {
     "end_time": "2025-02-06T08:50:43.603753Z",
     "start_time": "2025-02-06T08:50:43.601242Z"
    }
   },
   "cell_type": "code",
   "source": [
    "import pandas as pd\n",
    "import numpy as np\n",
    "import matplotlib.pyplot as plt\n",
    "import seaborn as sns\n",
    "\n",
    "sns.set_theme()"
   ],
   "id": "3b8532ee3c2e533a",
   "outputs": [],
   "execution_count": 4
  },
  {
   "metadata": {},
   "cell_type": "markdown",
   "source": "Для прикладу, візьмемо такий графік",
   "id": "25fb527c0a0f60c6"
  },
  {
   "metadata": {
    "ExecuteTime": {
     "end_time": "2025-02-06T08:50:43.738541Z",
     "start_time": "2025-02-06T08:50:43.608766Z"
    }
   },
   "cell_type": "code",
   "source": [
    "n = 20\n",
    "X = np.arange(n)\n",
    "y = 4*X + 3 + np.random.randn(X.size)\n",
    "plt.scatter(X, y)\n",
    "plt.show()"
   ],
   "id": "b21dbb2657ce7221",
   "outputs": [
    {
     "data": {
      "text/plain": [
       "<Figure size 640x480 with 1 Axes>"
      ],
      "image/png": "[encoded data removed]"
     },
     "metadata": {},
     "output_type": "display_data"
    }
   ],
   "execution_count": 5
  },
  {
   "metadata": {},
   "cell_type": "markdown",
   "source": "Кількість точок координатний прямиї",
   "id": "750a59d15674c42a"
  },
  {
   "metadata": {
    "ExecuteTime": {
     "end_time": "2025-02-06T08:50:43.785748Z",
     "start_time": "2025-02-06T08:50:43.782243Z"
    }
   },
   "cell_type": "code",
   "source": "X.shape",
   "id": "97199d7e24528ee1",
   "outputs": [
    {
     "data": {
      "text/plain": [
       "(20,)"
      ]
     },
     "execution_count": 6,
     "metadata": {},
     "output_type": "execute_result"
    }
   ],
   "execution_count": 6
  },
  {
   "metadata": {
    "ExecuteTime": {
     "end_time": "2025-02-06T08:50:43.820833Z",
     "start_time": "2025-02-06T08:50:43.817901Z"
    }
   },
   "cell_type": "code",
   "source": "y.shape",
   "id": "6146dd50d74b1707",
   "outputs": [
    {
     "data": {
      "text/plain": [
       "(20,)"
      ]
     },
     "execution_count": 7,
     "metadata": {},
     "output_type": "execute_result"
    }
   ],
   "execution_count": 7
  },
  {
   "metadata": {},
   "cell_type": "markdown",
   "source": "Створюємо вектор стовпчик одиниць",
   "id": "7f338a3700cdf62c"
  },
  {
   "metadata": {
    "ExecuteTime": {
     "end_time": "2025-02-06T08:50:43.843076Z",
     "start_time": "2025-02-06T08:50:43.840171Z"
    }
   },
   "cell_type": "code",
   "source": [
    "on = np.ones((X.size, 1))\n",
    "on.shape"
   ],
   "id": "db88db7be6e5b600",
   "outputs": [
    {
     "data": {
      "text/plain": [
       "(20, 1)"
      ]
     },
     "execution_count": 8,
     "metadata": {},
     "output_type": "execute_result"
    }
   ],
   "execution_count": 8
  },
  {
   "metadata": {},
   "cell_type": "markdown",
   "source": "Перетворення Х та вектор стовпчик",
   "id": "bc1b9c4da17f07e3"
  },
  {
   "metadata": {
    "ExecuteTime": {
     "end_time": "2025-02-06T08:50:43.866036Z",
     "start_time": "2025-02-06T08:50:43.863037Z"
    }
   },
   "cell_type": "code",
   "source": "X",
   "id": "21a5ff413c29bf72",
   "outputs": [
    {
     "data": {
      "text/plain": [
       "array([ 0,  1,  2,  3,  4,  5,  6,  7,  8,  9, 10, 11, 12, 13, 14, 15, 16,\n",
       "       17, 18, 19])"
      ]
     },
     "execution_count": 9,
     "metadata": {},
     "output_type": "execute_result"
    }
   ],
   "execution_count": 9
  },
  {
   "metadata": {
    "ExecuteTime": {
     "end_time": "2025-02-06T08:50:43.887887Z",
     "start_time": "2025-02-06T08:50:43.884797Z"
    }
   },
   "cell_type": "code",
   "source": "X[:, np.newaxis]",
   "id": "7e3bd1ed760d1478",
   "outputs": [
    {
     "data": {
      "text/plain": [
       "array([[ 0],\n",
       "       [ 1],\n",
       "       [ 2],\n",
       "       [ 3],\n",
       "       [ 4],\n",
       "       [ 5],\n",
       "       [ 6],\n",
       "       [ 7],\n",
       "       [ 8],\n",
       "       [ 9],\n",
       "       [10],\n",
       "       [11],\n",
       "       [12],\n",
       "       [13],\n",
       "       [14],\n",
       "       [15],\n",
       "       [16],\n",
       "       [17],\n",
       "       [18],\n",
       "       [19]])"
      ]
     },
     "execution_count": 10,
     "metadata": {},
     "output_type": "execute_result"
    }
   ],
   "execution_count": 10
  },
  {
   "metadata": {},
   "cell_type": "markdown",
   "source": "Прикріпляємо до Х вектор стовпчик одиниць",
   "id": "65393a46efcb3738"
  },
  {
   "metadata": {
    "ExecuteTime": {
     "end_time": "2025-02-06T08:50:43.939187Z",
     "start_time": "2025-02-06T08:50:43.936875Z"
    }
   },
   "cell_type": "code",
   "source": "X2 = np.hstack((X[:, np.newaxis], on))",
   "id": "7170b7da0791915d",
   "outputs": [],
   "execution_count": 11
  },
  {
   "metadata": {
    "ExecuteTime": {
     "end_time": "2025-02-06T08:50:44.005287Z",
     "start_time": "2025-02-06T08:50:44.001590Z"
    }
   },
   "cell_type": "code",
   "source": "X2",
   "id": "d9a81b5540b2a40f",
   "outputs": [
    {
     "data": {
      "text/plain": [
       "array([[ 0.,  1.],\n",
       "       [ 1.,  1.],\n",
       "       [ 2.,  1.],\n",
       "       [ 3.,  1.],\n",
       "       [ 4.,  1.],\n",
       "       [ 5.,  1.],\n",
       "       [ 6.,  1.],\n",
       "       [ 7.,  1.],\n",
       "       [ 8.,  1.],\n",
       "       [ 9.,  1.],\n",
       "       [10.,  1.],\n",
       "       [11.,  1.],\n",
       "       [12.,  1.],\n",
       "       [13.,  1.],\n",
       "       [14.,  1.],\n",
       "       [15.,  1.],\n",
       "       [16.,  1.],\n",
       "       [17.,  1.],\n",
       "       [18.,  1.],\n",
       "       [19.,  1.]])"
      ]
     },
     "execution_count": 12,
     "metadata": {},
     "output_type": "execute_result"
    }
   ],
   "execution_count": 12
  },
  {
   "metadata": {},
   "cell_type": "markdown",
   "source": "Перетворення y в вектор стовпчик",
   "id": "dbac7209f6523c8d"
  },
  {
   "metadata": {
    "ExecuteTime": {
     "end_time": "2025-02-06T08:50:44.026254Z",
     "start_time": "2025-02-06T08:50:44.023254Z"
    }
   },
   "cell_type": "code",
   "source": [
    "y = y[:, np.newaxis]\n",
    "y.shape"
   ],
   "id": "cbb3a495f0623a7d",
   "outputs": [
    {
     "data": {
      "text/plain": [
       "(20, 1)"
      ]
     },
     "execution_count": 13,
     "metadata": {},
     "output_type": "execute_result"
    }
   ],
   "execution_count": 13
  },
  {
   "metadata": {},
   "cell_type": "markdown",
   "source": "Розв’язок задачі найменших квадратів для переозначеної системи лінійних рівнянь",
   "id": "73cb505b3b852237"
  },
  {
   "metadata": {
    "ExecuteTime": {
     "end_time": "2025-02-06T08:50:44.120396Z",
     "start_time": "2025-02-06T08:50:44.117175Z"
    }
   },
   "cell_type": "code",
   "source": "a = np.linalg.lstsq(X2, y, rcond=None)",
   "id": "2e05064d7093c951",
   "outputs": [],
   "execution_count": 14
  },
  {
   "metadata": {},
   "cell_type": "markdown",
   "source": [
    "Повернене значення (a) — кортеж із 4 елементів:\n",
    "\n",
    "a(0) — вектор коефіцієнтів β (розмірністю n × 1), що мінімізує різницю ||X2β - y||.\n",
    "\n",
    "a(1) — масив квадратів залишків (різниця між передбаченими та реальними значеннями y), якщо m > n, інакше порожній масив.\n",
    "\n",
    "a(2) — ранг матриці X2.\n",
    "\n",
    "a(3) — сингулярні числа X2."
   ],
   "id": "87c584a8aa776403"
  },
  {
   "metadata": {
    "ExecuteTime": {
     "end_time": "2025-02-06T08:50:44.156770Z",
     "start_time": "2025-02-06T08:50:44.153760Z"
    }
   },
   "cell_type": "code",
   "source": "type(a)",
   "id": "13c6acbf6928e0e9",
   "outputs": [
    {
     "data": {
      "text/plain": [
       "tuple"
      ]
     },
     "execution_count": 15,
     "metadata": {},
     "output_type": "execute_result"
    }
   ],
   "execution_count": 15
  },
  {
   "metadata": {
    "ExecuteTime": {
     "end_time": "2025-02-06T08:50:44.200005Z",
     "start_time": "2025-02-06T08:50:44.196800Z"
    }
   },
   "cell_type": "code",
   "source": "a",
   "id": "3d5ff817743144dc",
   "outputs": [
    {
     "data": {
      "text/plain": [
       "(array([[4.00909047],\n",
       "        [3.03508078]]),\n",
       " array([18.43069372]),\n",
       " np.int32(2),\n",
       " array([49.84623483,  2.31362763]))"
      ]
     },
     "execution_count": 16,
     "metadata": {},
     "output_type": "execute_result"
    }
   ],
   "execution_count": 16
  },
  {
   "metadata": {
    "ExecuteTime": {
     "end_time": "2025-02-06T08:50:44.228220Z",
     "start_time": "2025-02-06T08:50:44.224999Z"
    }
   },
   "cell_type": "code",
   "source": "a[0]",
   "id": "7bf553767fa35f60",
   "outputs": [
    {
     "data": {
      "text/plain": [
       "array([[4.00909047],\n",
       "       [3.03508078]])"
      ]
     },
     "execution_count": 17,
     "metadata": {},
     "output_type": "execute_result"
    }
   ],
   "execution_count": 17
  },
  {
   "metadata": {
    "ExecuteTime": {
     "end_time": "2025-02-06T08:50:44.262241Z",
     "start_time": "2025-02-06T08:50:44.260367Z"
    }
   },
   "cell_type": "code",
   "source": "y_pred = a[0][0]*X+a[0][1]",
   "id": "57ce872afa51a037",
   "outputs": [],
   "execution_count": 18
  },
  {
   "metadata": {
    "ExecuteTime": {
     "end_time": "2025-02-06T08:50:44.455528Z",
     "start_time": "2025-02-06T08:50:44.385217Z"
    }
   },
   "cell_type": "code",
   "source": [
    "plt.scatter(X, y)\n",
    "plt.plot(X, y_pred, color='red')"
   ],
   "id": "d406e1d892ef69b0",
   "outputs": [
    {
     "data": {
      "text/plain": [
       "[<matplotlib.lines.Line2D at 0x15087c814c0>]"
      ]
     },
     "execution_count": 19,
     "metadata": {},
     "output_type": "execute_result"
    },
    {
     "data": {
      "text/plain": [
       "<Figure size 640x480 with 1 Axes>"
      ],
      "image/png": "[encoded data removed]"
     },
     "metadata": {},
     "output_type": "display_data"
    }
   ],
   "execution_count": 19
  },
  {
   "metadata": {},
   "cell_type": "markdown",
   "source": "**06.02 Minimum to mean distance classifier**",
   "id": "1c7b9994bd1c97e0"
  },
  {
   "metadata": {
    "ExecuteTime": {
     "end_time": "2025-02-06T08:51:53.629693Z",
     "start_time": "2025-02-06T08:51:53.184636Z"
    }
   },
   "cell_type": "code",
   "source": [
    "from sklearn.datasets import make_blobs\n",
    "X, y = make_blobs(n_samples=200,centers=2)\n",
    "X.shape"
   ],
   "id": "2278a3786bb8a2a3",
   "outputs": [
    {
     "data": {
      "text/plain": [
       "(200, 2)"
      ]
     },
     "execution_count": 20,
     "metadata": {},
     "output_type": "execute_result"
    }
   ],
   "execution_count": 20
  },
  {
   "metadata": {
    "ExecuteTime": {
     "end_time": "2025-02-06T08:52:16.253385Z",
     "start_time": "2025-02-06T08:52:16.250192Z"
    }
   },
   "cell_type": "code",
   "source": "y.shape",
   "id": "cf8e1314017e3234",
   "outputs": [
    {
     "data": {
      "text/plain": [
       "(200,)"
      ]
     },
     "execution_count": 21,
     "metadata": {},
     "output_type": "execute_result"
    }
   ],
   "execution_count": 21
  },
  {
   "metadata": {},
   "cell_type": "markdown",
   "source": "Значення y",
   "id": "beee76f22ee646dd"
  },
  {
   "metadata": {
    "ExecuteTime": {
     "end_time": "2025-02-06T08:52:26.153103Z",
     "start_time": "2025-02-06T08:52:26.150175Z"
    }
   },
   "cell_type": "code",
   "source": "np.unique(y)",
   "id": "6342012af6e47cda",
   "outputs": [
    {
     "data": {
      "text/plain": [
       "array([0, 1])"
      ]
     },
     "execution_count": 22,
     "metadata": {},
     "output_type": "execute_result"
    }
   ],
   "execution_count": 22
  },
  {
   "metadata": {},
   "cell_type": "markdown",
   "source": "Зображення",
   "id": "f056240247a4bd43"
  },
  {
   "metadata": {
    "ExecuteTime": {
     "end_time": "2025-02-06T08:56:43.190583Z",
     "start_time": "2025-02-06T08:56:43.132905Z"
    }
   },
   "cell_type": "code",
   "source": "plt.scatter(X[:,0], X[:,1], c=y, cmap='autumn')",
   "id": "93272fb78d354d4e",
   "outputs": [
    {
     "data": {
      "text/plain": [
       "<matplotlib.collections.PathCollection at 0x1508b80bb90>"
      ]
     },
     "execution_count": 28,
     "metadata": {},
     "output_type": "execute_result"
    },
    {
     "data": {
      "text/plain": [
       "<Figure size 640x480 with 1 Axes>"
      ],
      "image/png": "[encoded data removed]"
     },
     "metadata": {},
     "output_type": "display_data"
    }
   ],
   "execution_count": 28
  },
  {
   "metadata": {},
   "cell_type": "markdown",
   "source": "Замінюємо нуль на -1",
   "id": "f0f5373253d62fda"
  },
  {
   "metadata": {
    "ExecuteTime": {
     "end_time": "2025-02-06T08:54:33.702981Z",
     "start_time": "2025-02-06T08:54:33.700011Z"
    }
   },
   "cell_type": "code",
   "source": "y[y==0] = -1",
   "id": "8ca5c3eb541614e0",
   "outputs": [],
   "execution_count": 23
  },
  {
   "metadata": {
    "ExecuteTime": {
     "end_time": "2025-02-06T08:54:34.814422Z",
     "start_time": "2025-02-06T08:54:34.810950Z"
    }
   },
   "cell_type": "code",
   "source": "np.unique(y)",
   "id": "a0f4497417e7478",
   "outputs": [
    {
     "data": {
      "text/plain": [
       "array([-1,  1])"
      ]
     },
     "execution_count": 24,
     "metadata": {},
     "output_type": "execute_result"
    }
   ],
   "execution_count": 24
  },
  {
   "metadata": {
    "ExecuteTime": {
     "end_time": "2025-02-06T08:56:15.674743Z",
     "start_time": "2025-02-06T08:56:15.617048Z"
    }
   },
   "cell_type": "code",
   "source": "plt.scatter(X[:,0], X[:,1], c=y, cmap='autumn')",
   "id": "2151763638310850",
   "outputs": [
    {
     "data": {
      "text/plain": [
       "<matplotlib.collections.PathCollection at 0x1508b7b21e0>"
      ]
     },
     "execution_count": 27,
     "metadata": {},
     "output_type": "execute_result"
    },
    {
     "data": {
      "text/plain": [
       "<Figure size 640x480 with 1 Axes>"
      ],
      "image/png": "[encoded data removed]"
     },
     "metadata": {},
     "output_type": "display_data"
    }
   ],
   "execution_count": 27
  },
  {
   "metadata": {},
   "cell_type": "markdown",
   "source": "Знаходимо індекси, де клас = 1. Робимо класифікацію вручну",
   "id": "424f94245ad702b4"
  },
  {
   "metadata": {
    "ExecuteTime": {
     "end_time": "2025-02-06T08:57:24.806509Z",
     "start_time": "2025-02-06T08:57:24.804501Z"
    }
   },
   "cell_type": "code",
   "source": "idx = y==1",
   "id": "89fcc2702de8e20e",
   "outputs": [],
   "execution_count": 29
  },
  {
   "metadata": {},
   "cell_type": "markdown",
   "source": "Ділимо дані",
   "id": "79f8b9c991cab711"
  },
  {
   "metadata": {
    "ExecuteTime": {
     "end_time": "2025-02-06T08:57:25.780546Z",
     "start_time": "2025-02-06T08:57:25.777863Z"
    }
   },
   "cell_type": "code",
   "source": [
    "X1 = X[idx,:]\n",
    "X1.shape"
   ],
   "id": "75d8574cc6b04cb7",
   "outputs": [
    {
     "data": {
      "text/plain": [
       "(100, 2)"
      ]
     },
     "execution_count": 30,
     "metadata": {},
     "output_type": "execute_result"
    }
   ],
   "execution_count": 30
  },
  {
   "metadata": {
    "ExecuteTime": {
     "end_time": "2025-02-06T08:57:52.541838Z",
     "start_time": "2025-02-06T08:57:52.538773Z"
    }
   },
   "cell_type": "code",
   "source": [
    "X2 = X[~idx,:]\n",
    "X2.shape"
   ],
   "id": "c9552c0498262d8b",
   "outputs": [
    {
     "data": {
      "text/plain": [
       "(100, 2)"
      ]
     },
     "execution_count": 31,
     "metadata": {},
     "output_type": "execute_result"
    }
   ],
   "execution_count": 31
  },
  {
   "metadata": {},
   "cell_type": "markdown",
   "source": "Пошук середніх значень",
   "id": "c0ac128fca5b1c1e"
  },
  {
   "metadata": {
    "ExecuteTime": {
     "end_time": "2025-02-06T08:59:08.124144Z",
     "start_time": "2025-02-06T08:59:08.120894Z"
    }
   },
   "cell_type": "code",
   "source": [
    "M1 = X1.mean(axis=0)\n",
    "M1"
   ],
   "id": "e760b05cd1d811e6",
   "outputs": [
    {
     "data": {
      "text/plain": [
       "array([-9.30655237, -6.08244545])"
      ]
     },
     "execution_count": 35,
     "metadata": {},
     "output_type": "execute_result"
    }
   ],
   "execution_count": 35
  },
  {
   "metadata": {
    "ExecuteTime": {
     "end_time": "2025-02-06T08:59:09.173006Z",
     "start_time": "2025-02-06T08:59:09.169568Z"
    }
   },
   "cell_type": "code",
   "source": [
    "M2 = X2.mean(axis=0)\n",
    "M2"
   ],
   "id": "f4e0e35fa1e60a1a",
   "outputs": [
    {
     "data": {
      "text/plain": [
       "array([5.87132648, 2.83865045])"
      ]
     },
     "execution_count": 36,
     "metadata": {},
     "output_type": "execute_result"
    }
   ],
   "execution_count": 36
  },
  {
   "metadata": {},
   "cell_type": "markdown",
   "source": "Класифікація",
   "id": "d9e6294b266cad6b"
  },
  {
   "metadata": {
    "ExecuteTime": {
     "end_time": "2025-02-06T09:05:07.695924Z",
     "start_time": "2025-02-06T09:05:07.692924Z"
    }
   },
   "cell_type": "code",
   "source": [
    "idx  = np.random.randint(y.size)\n",
    "r = X[idx, :]\n",
    "d1 = ((r-M1)**2).sum()\n",
    "d2 = ((r-M2)**2).sum()\n",
    "if d1<d2:\n",
    "    print(y[idx],1)\n",
    "else:\n",
    "    print(y[idx],-1)"
   ],
   "id": "efb9b5fd37766a0a",
   "outputs": [
    {
     "name": "stdout",
     "output_type": "stream",
     "text": [
      "1 1\n"
     ]
    }
   ],
   "execution_count": 70
  },
  {
   "metadata": {},
   "cell_type": "markdown",
   "source": "Overfitting and underfitting. Недонавчання та перенавчання",
   "id": "e996d4abe1b8abfc"
  },
  {
   "metadata": {},
   "cell_type": "markdown",
   "source": [
    "У машинному навчанні (ML) недонавчання (underfitting) та перенавчання (overfitting) – це дві основні проблеми, пов’язані з узагальнюючою здатністю моделі.\n",
    "\n",
    "1. Недонавчання (Underfitting)\n",
    "Недонавчання виникає, коли модель є занадто простою і не може добре відобразити залежності у навчальних даних. Вона не встигає захопити основні закономірності, що призводить до низької точності як на навчальних, так і на тестових даних.\n",
    "\n",
    "2. Перенавчання (Overfitting)\n",
    "Перенавчання виникає, коли модель занадто добре підлаштовується під навчальні дані, запам’ятовуючи їх, замість того щоб виявляти загальні закономірності. Це призводить до високої точності на навчальних даних, але поганої генералізації на тестові або реальні дані.\n",
    "\n",
    "Недонавчання → Модель дає однакові передбачення для всіх випадків, навіть якщо є явний патерн у даних.\n",
    "\n",
    "Оптимальна модель → Модель добре узагальнює закономірності у даних.\n",
    "\n",
    "Перенавчання → Модель підлаштовується під шуми або випадкові деталі навчальних даних.\n",
    "\n",
    "Якщо коротко:\n",
    "Недонавчання = модель занадто спрощена.\n",
    "\n",
    "Перенавчання = модель занадто складна.\n",
    "\n",
    "Оптимальна модель = баланс між двома крайнощами."
   ],
   "id": "253f3b6001be82e5"
  },
  {
   "metadata": {},
   "cell_type": "markdown",
   "source": "Приклад оптимальної моделі",
   "id": "af9b190b716958b2"
  },
  {
   "metadata": {
    "ExecuteTime": {
     "end_time": "2025-02-06T09:18:15.109960Z",
     "start_time": "2025-02-06T09:18:15.049955Z"
    }
   },
   "cell_type": "code",
   "source": [
    "n = 20\n",
    "X = np.arange(n)\n",
    "y = 3*X-4+10*(np.random.randn(X.size))\n",
    "plt.scatter(X, y)"
   ],
   "id": "4bdc9ce09e38896c",
   "outputs": [
    {
     "data": {
      "text/plain": [
       "<matplotlib.collections.PathCollection at 0x1508b88a1e0>"
      ]
     },
     "execution_count": 71,
     "metadata": {},
     "output_type": "execute_result"
    },
    {
     "data": {
      "text/plain": [
       "<Figure size 640x480 with 1 Axes>"
      ],
      "image/png": "[encoded data removed]"
     },
     "metadata": {},
     "output_type": "display_data"
    }
   ],
   "execution_count": 71
  },
  {
   "metadata": {
    "ExecuteTime": {
     "end_time": "2025-02-06T09:26:11.270495Z",
     "start_time": "2025-02-06T09:26:11.206062Z"
    }
   },
   "cell_type": "code",
   "source": [
    "from sklearn.preprocessing import PolynomialFeatures\n",
    "from sklearn.linear_model import LinearRegression\n",
    "\n",
    "polyModel = PolynomialFeatures(degree=12)\n",
    "X_poly = polyModel.fit_transform(X[:, np.newaxis])\n",
    "m = LinearRegression()\n",
    "m.fit(X_poly, y)\n",
    "y_pred = m.predict(X_poly)\n",
    "plt.scatter(X, y)\n",
    "plt.plot(X, y_pred, color='red')"
   ],
   "id": "645dcb0e2ab3344",
   "outputs": [
    {
     "data": {
      "text/plain": [
       "[<matplotlib.lines.Line2D at 0x1508f63b0b0>]"
      ]
     },
     "execution_count": 85,
     "metadata": {},
     "output_type": "execute_result"
    },
    {
     "data": {
      "text/plain": [
       "<Figure size 640x480 with 1 Axes>"
      ],
      "image/png": "[encoded data removed]"
     },
     "metadata": {},
     "output_type": "display_data"
    }
   ],
   "execution_count": 85
  },
  {
   "metadata": {},
   "cell_type": "markdown",
   "source": "Приклад перенавчання (мало навчальних даних)",
   "id": "c42b54fd01c068cd"
  },
  {
   "metadata": {},
   "cell_type": "markdown",
   "source": "Спочатку навчимо модель на малій кількості даних",
   "id": "a5cc8783215776a7"
  },
  {
   "metadata": {
    "ExecuteTime": {
     "end_time": "2025-02-06T09:35:58.436223Z",
     "start_time": "2025-02-06T09:35:58.433222Z"
    }
   },
   "cell_type": "code",
   "source": [
    "n = 20\n",
    "X = np.arange(n)\n",
    "y = 3*X-4+10*(np.random.randn(X.size))\n",
    "\n",
    "X2 = X[0:n:5]\n",
    "y2 = y[0:n:5]"
   ],
   "id": "d5f9daf5f0ff0db8",
   "outputs": [],
   "execution_count": 105
  },
  {
   "metadata": {
    "ExecuteTime": {
     "end_time": "2025-02-06T09:35:59.917908Z",
     "start_time": "2025-02-06T09:35:59.855163Z"
    }
   },
   "cell_type": "code",
   "source": [
    "polyModel = PolynomialFeatures(degree=4)\n",
    "X_poly = polyModel.fit_transform(X2[:, np.newaxis])\n",
    "m = LinearRegression()\n",
    "m.fit(X_poly, y2)\n",
    "y_pred = m.predict(X_poly)\n",
    "plt.scatter(X2, y2)\n",
    "plt.plot(X2, y_pred, color='red')"
   ],
   "id": "d5c7b012bac32b11",
   "outputs": [
    {
     "data": {
      "text/plain": [
       "[<matplotlib.lines.Line2D at 0x1509119adb0>]"
      ]
     },
     "execution_count": 106,
     "metadata": {},
     "output_type": "execute_result"
    },
    {
     "data": {
      "text/plain": [
       "<Figure size 640x480 with 1 Axes>"
      ],
      "image/png": "[encoded data removed]"
     },
     "metadata": {},
     "output_type": "display_data"
    }
   ],
   "execution_count": 106
  },
  {
   "metadata": {},
   "cell_type": "markdown",
   "source": "Потім дамо багато даних",
   "id": "acba3b8c7300bd9a"
  },
  {
   "metadata": {
    "ExecuteTime": {
     "end_time": "2025-02-06T09:36:01.728016Z",
     "start_time": "2025-02-06T09:36:01.667174Z"
    }
   },
   "cell_type": "code",
   "source": [
    "X_poly_all = polyModel.fit_transform(X[:, np.newaxis])\n",
    "y_pred_all = m.predict(X_poly_all)\n",
    "plt.scatter(X, y)\n",
    "plt.plot(X, y_pred_all, color='red')"
   ],
   "id": "b5a62ec3c46275f",
   "outputs": [
    {
     "data": {
      "text/plain": [
       "[<matplotlib.lines.Line2D at 0x15091217ce0>]"
      ]
     },
     "execution_count": 107,
     "metadata": {},
     "output_type": "execute_result"
    },
    {
     "data": {
      "text/plain": [
       "<Figure size 640x480 with 1 Axes>"
      ],
      "image/png": "[encoded data removed]"
     },
     "metadata": {},
     "output_type": "display_data"
    }
   ],
   "execution_count": 107
  },
  {
   "metadata": {},
   "cell_type": "markdown",
   "source": "Перетворення масиву у одновимірний вектор",
   "id": "caaf2d4ac9b15c85"
  },
  {
   "metadata": {
    "ExecuteTime": {
     "end_time": "2025-02-06T09:48:57.563331Z",
     "start_time": "2025-02-06T09:48:57.558826Z"
    }
   },
   "cell_type": "code",
   "source": [
    "X = np.asarray([-np.random.rand(50), np.random.rand(50)])\n",
    "X.shape"
   ],
   "id": "ec2292d31b48c293",
   "outputs": [
    {
     "data": {
      "text/plain": [
       "(2, 50)"
      ]
     },
     "execution_count": 108,
     "metadata": {},
     "output_type": "execute_result"
    }
   ],
   "execution_count": 108
  },
  {
   "metadata": {
    "ExecuteTime": {
     "end_time": "2025-02-06T09:49:08.704483Z",
     "start_time": "2025-02-06T09:49:08.701142Z"
    }
   },
   "cell_type": "code",
   "source": [
    "X = X.flatten()\n",
    "X.shape"
   ],
   "id": "32daf8da1a5d17f1",
   "outputs": [
    {
     "data": {
      "text/plain": [
       "(100,)"
      ]
     },
     "execution_count": 109,
     "metadata": {},
     "output_type": "execute_result"
    }
   ],
   "execution_count": 109
  },
  {
   "metadata": {
    "ExecuteTime": {
     "end_time": "2025-02-06T09:51:14.330606Z",
     "start_time": "2025-02-06T09:51:14.327026Z"
    }
   },
   "cell_type": "code",
   "source": [
    "X = np.sort(X)\n",
    "X"
   ],
   "id": "455c1d91aa92eaff",
   "outputs": [
    {
     "data": {
      "text/plain": [
       "array([-0.9901882 , -0.92925315, -0.87502506, -0.87259568, -0.86094274,\n",
       "       -0.83279962, -0.78947257, -0.78380808, -0.78315916, -0.74412411,\n",
       "       -0.74141752, -0.67679521, -0.67499482, -0.66424629, -0.65341704,\n",
       "       -0.64897638, -0.60969317, -0.58837325, -0.55217168, -0.53451775,\n",
       "       -0.49892491, -0.49626918, -0.48886561, -0.44995023, -0.4412826 ,\n",
       "       -0.3550871 , -0.32982464, -0.32204158, -0.31112596, -0.30317282,\n",
       "       -0.3017778 , -0.29702503, -0.2929192 , -0.29008046, -0.28834703,\n",
       "       -0.27700794, -0.26781283, -0.24157805, -0.2399045 , -0.23960294,\n",
       "       -0.22000088, -0.20766719, -0.19798956, -0.19576321, -0.19398661,\n",
       "       -0.13208201, -0.12256256, -0.09380496, -0.04967355, -0.02152289,\n",
       "        0.01003095,  0.01179553,  0.01554071,  0.08103705,  0.08145015,\n",
       "        0.12327847,  0.13657206,  0.18775335,  0.19445517,  0.20498108,\n",
       "        0.21120965,  0.22593438,  0.23782402,  0.2751189 ,  0.32529489,\n",
       "        0.3464447 ,  0.35313915,  0.40858752,  0.41812059,  0.41864569,\n",
       "        0.42095881,  0.42929723,  0.43779981,  0.44320333,  0.4626432 ,\n",
       "        0.51625583,  0.54335099,  0.54725353,  0.55249824,  0.6264334 ,\n",
       "        0.62728235,  0.63713081,  0.70008988,  0.73689345,  0.8042178 ,\n",
       "        0.80865691,  0.82069528,  0.83649682,  0.83817661,  0.85987203,\n",
       "        0.86329317,  0.8647571 ,  0.87256879,  0.89886699,  0.9031153 ,\n",
       "        0.90597122,  0.92909375,  0.94589414,  0.95920727,  0.97595357])"
      ]
     },
     "execution_count": 111,
     "metadata": {},
     "output_type": "execute_result"
    }
   ],
   "execution_count": 111
  },
  {
   "metadata": {},
   "cell_type": "markdown",
   "source": "Робимо поліном з лайна та палок. Як за допомогою підкрутки масиву а змінювати лінію",
   "id": "4a25cd341e04451e"
  },
  {
   "metadata": {
    "ExecuteTime": {
     "end_time": "2025-02-06T10:02:49.981592Z",
     "start_time": "2025-02-06T10:02:49.979153Z"
    }
   },
   "cell_type": "code",
   "source": [
    "a = [3, 10, 100, 1, 100, 0.1]\n",
    "y = 0\n",
    "for i in range (0, 6):\n",
    "    y += a[5-i] * (X ** i)"
   ],
   "id": "eee7696ba339401c",
   "outputs": [],
   "execution_count": 123
  },
  {
   "metadata": {
    "ExecuteTime": {
     "end_time": "2025-02-06T10:02:51.029580Z",
     "start_time": "2025-02-06T10:02:50.964581Z"
    }
   },
   "cell_type": "code",
   "source": "plt.plot(X, y)",
   "id": "4491b3df24f1fe2a",
   "outputs": [
    {
     "data": {
      "text/plain": [
       "[<matplotlib.lines.Line2D at 0x15091421a00>]"
      ]
     },
     "execution_count": 124,
     "metadata": {},
     "output_type": "execute_result"
    },
    {
     "data": {
      "text/plain": [
       "<Figure size 640x480 with 1 Axes>"
      ],
      "image/png": "[encoded data removed]"
     },
     "metadata": {},
     "output_type": "display_data"
    }
   ],
   "execution_count": 124
  },
  {
   "metadata": {},
   "cell_type": "markdown",
   "source": [
    "Типи наборів даних у машинному навчанні\n",
    "У машинному навчанні набори даних поділяються за призначенням.\n",
    "\n",
    "1. Навчальний набір (Training Set)\n",
    "Використовується для навчання моделі.\n",
    "Містить мітки (у випадку supervised learning).\n",
    "Модель \"бачить\" ці дані і підлаштовує свої параметри.\n",
    "\n",
    "🔹 Приклад: набір зображень котів і собак, де кожне зображення має відповідну мітку.\n",
    "\n",
    "\n",
    "2. Валідаційний набір (Validation Set)\n",
    "Використовується для налаштування гіперпараметрів моделі.\n",
    "Не використовується безпосередньо для навчання.\n",
    "Допомагає вибрати найкращі параметри (наприклад, розмір нейронної мережі, швидкість навчання).\n",
    "\n",
    "🔹 Приклад: підбір коефіцієнта регуляризації в моделі нейронної мережі.\n",
    "\n",
    "\n",
    "3. Тестовий набір (Test Set)\n",
    "Використовується для оцінки фінальної якості моделі.\n",
    "Набір даних, який модель раніше не бачила.\n",
    "Дає змогу оцінити узагальнюючу здатність моделі.\n",
    "\n",
    "🔹 Приклад: набір реальних відгуків користувачів для перевірки точності класифікації."
   ],
   "id": "e3af311d2f51625f"
  }
 ],
 "metadata": {
  "kernelspec": {
   "display_name": "Python 3",
   "language": "python",
   "name": "python3"
  },
  "language_info": {
   "codemirror_mode": {
    "name": "ipython",
    "version": 2
   },
   "file_extension": ".py",
   "mimetype": "text/x-python",
   "name": "python",
   "nbconvert_exporter": "python",
   "pygments_lexer": "ipython2",
   "version": "2.7.6"
  }
 },
 "nbformat": 4,
 "nbformat_minor": 5
}
